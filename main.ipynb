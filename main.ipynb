{
 "cells": [
  {
   "cell_type": "code",
   "execution_count": null,
   "id": "555d4bd7",
   "metadata": {},
   "outputs": [],
   "source": [
    "# College Event Feedback Analysis\n",
    "\n",
    "#  Import Required Libraries\n",
    "import pandas as pd\n",
    "import seaborn as sns\n",
    "import matplotlib.pyplot as plt\n",
    "from wordcloud import WordCloud\n",
    "from textblob import TextBlob\n",
    "\n",
    "#  the Survey Data \n",
    "df = pd.read_csv(\"data/feedback.csv\") \n",
    "print(\"\\nFirst 5 Rows of Data:\")\n",
    "print(df.head())\n",
    "\n",
    "\n",
    "print(\"\\nColumns in dataset:\")\n",
    "print(df.columns)\n",
    "\n",
    "\n",
    "feedback_cols = ['What did you like about the event?', 'What could be improved?']\n",
    "df.dropna(subset=feedback_cols, inplace=True)\n",
    "df.reset_index(drop=True, inplace=True)\n",
    "\n",
    "#  Sentiment Analysis \n",
    "def get_sentiment(text):\n",
    "    blob = TextBlob(str(text))\n",
    "    polarity = blob.sentiment.polarity\n",
    "    if polarity > 0:\n",
    "        return 'Positive'\n",
    "    elif polarity < 0:\n",
    "        return 'Negative'\n",
    "    else:\n",
    "        return 'Neutral'\n",
    "\n",
    "\n",
    "df['Like_Sentiment'] = df['What did you like about the event?'].apply(get_sentiment)\n",
    "\n",
    "#  Visualize Rating Distribution \n",
    "sns.set(style=\"whitegrid\")\n",
    "plt.figure(figsize=(6, 4))\n",
    "sns.countplot(x='Overall Rating', data=df)\n",
    "plt.title('Event Rating Distribution')\n",
    "plt.xlabel('Rating')\n",
    "plt.ylabel('Count')\n",
    "plt.tight_layout()\n",
    "plt.show()\n",
    "\n",
    "#   Visualize Sentiment \n",
    "plt.figure(figsize=(6, 4))\n",
    "sns.countplot(x='Like_Sentiment', data=df, palette='pastel')\n",
    "plt.title('Sentiment of What Students Liked')\n",
    "plt.xlabel('Sentiment')\n",
    "plt.ylabel('Count')\n",
    "plt.tight_layout()\n",
    "plt.show()\n",
    "\n",
    "#   Word Cloud for Likes \n",
    "like_text = ' '.join(df['What did you like about the event?'].dropna())\n",
    "wordcloud = WordCloud(width=800, height=400, background_color='white').generate(like_text)\n",
    "plt.figure(figsize=(10, 5))\n",
    "plt.imshow(wordcloud, interpolation='bilinear')\n",
    "plt.axis('off')\n",
    "plt.title(\"Word Cloud: What Students Liked\")\n",
    "plt.show()\n",
    "\n",
    "#   Word Cloud for Improvements \n",
    "improve_text = ' '.join(df['What could be improved?'].dropna())\n",
    "improve_wordcloud = WordCloud(width=800, height=400, background_color='white').generate(improve_text)\n",
    "plt.figure(figsize=(10, 5))\n",
    "plt.imshow(improve_wordcloud, interpolation='bilinear')\n",
    "plt.axis('off')\n",
    "plt.title(\"Word Cloud: Suggestions for Improvement\")\n",
    "plt.show()\n",
    "\n",
    "#  Summary Stats \n",
    "print(\"\\nSentiment Counts:\")\n",
    "print(df['Like_Sentiment'].value_counts())\n",
    "\n",
    "print(\"\\nAverage Rating:\")\n",
    "print(df['Overall Rating'].mean())\n",
    "\n",
    "print(\"\\nTop Suggestions for Improvement:\")\n",
    "print(df['What could be improved?'].value_counts().head())\n"
   ]
  },
  {
   "cell_type": "code",
   "execution_count": 1,
   "id": "0b6468fa",
   "metadata": {},
   "outputs": [
    {
     "ename": "ModuleNotFoundError",
     "evalue": "No module named 'wordcloud'",
     "output_type": "error",
     "traceback": [
      "\u001b[1;31m---------------------------------------------------------------------------\u001b[0m",
      "\u001b[1;31mModuleNotFoundError\u001b[0m                       Traceback (most recent call last)",
      "Cell \u001b[1;32mIn[1], line 7\u001b[0m\n\u001b[0;32m      5\u001b[0m \u001b[38;5;28;01mimport\u001b[39;00m \u001b[38;5;21;01mseaborn\u001b[39;00m \u001b[38;5;28;01mas\u001b[39;00m \u001b[38;5;21;01msns\u001b[39;00m\n\u001b[0;32m      6\u001b[0m \u001b[38;5;28;01mimport\u001b[39;00m \u001b[38;5;21;01mmatplotlib\u001b[39;00m\u001b[38;5;21;01m.\u001b[39;00m\u001b[38;5;21;01mpyplot\u001b[39;00m \u001b[38;5;28;01mas\u001b[39;00m \u001b[38;5;21;01mplt\u001b[39;00m\n\u001b[1;32m----> 7\u001b[0m \u001b[38;5;28;01mfrom\u001b[39;00m \u001b[38;5;21;01mwordcloud\u001b[39;00m \u001b[38;5;28;01mimport\u001b[39;00m WordCloud\n\u001b[0;32m      8\u001b[0m \u001b[38;5;28;01mfrom\u001b[39;00m \u001b[38;5;21;01mtextblob\u001b[39;00m \u001b[38;5;28;01mimport\u001b[39;00m TextBlob\n",
      "\u001b[1;31mModuleNotFoundError\u001b[0m: No module named 'wordcloud'"
     ]
    }
   ],
   "source": [
    "# College Event Feedback Analysis\n",
    "\n",
    "#  Import Required Libraries\n",
    "import pandas as pd\n",
    "import seaborn as sns\n",
    "import matplotlib.pyplot as plt\n",
    "from wordcloud import WordCloud\n",
    "from textblob import TextBlob"
   ]
  },
  {
   "cell_type": "code",
   "execution_count": 2,
   "id": "4e46dd62",
   "metadata": {},
   "outputs": [
    {
     "ename": "ModuleNotFoundError",
     "evalue": "No module named 'WordCloud'",
     "output_type": "error",
     "traceback": [
      "\u001b[1;31m---------------------------------------------------------------------------\u001b[0m",
      "\u001b[1;31mModuleNotFoundError\u001b[0m                       Traceback (most recent call last)",
      "Cell \u001b[1;32mIn[2], line 1\u001b[0m\n\u001b[1;32m----> 1\u001b[0m \u001b[38;5;28;01mimport\u001b[39;00m \u001b[38;5;21;01mWordCloud\u001b[39;00m\n",
      "\u001b[1;31mModuleNotFoundError\u001b[0m: No module named 'WordCloud'"
     ]
    }
   ],
   "source": [
    "import WordCloud"
   ]
  },
  {
   "cell_type": "code",
   "execution_count": null,
   "id": "7789ded3",
   "metadata": {},
   "outputs": [],
   "source": []
  }
 ],
 "metadata": {
  "kernelspec": {
   "display_name": "Python 3 (ipykernel)",
   "language": "python",
   "name": "python3"
  },
  "language_info": {
   "codemirror_mode": {
    "name": "ipython",
    "version": 3
   },
   "file_extension": ".py",
   "mimetype": "text/x-python",
   "name": "python",
   "nbconvert_exporter": "python",
   "pygments_lexer": "ipython3",
   "version": "3.10.9"
  }
 },
 "nbformat": 4,
 "nbformat_minor": 5
}
